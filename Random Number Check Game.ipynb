{
 "cells": [
  {
   "cell_type": "markdown",
   "id": "800f5250",
   "metadata": {},
   "source": [
    "# Task\n",
    "Given an integer perform the following conditional actions:\n",
    "\n",
    "If  is odd, print Weird\n",
    "If  is even and in the inclusive range of  to , print Not Weird\n",
    "If  is even and in the inclusive range of  to , print Weird\n",
    "If  is even and greater than , print Not Weird"
   ]
  },
  {
   "cell_type": "code",
   "execution_count": 8,
   "id": "36c52e5c",
   "metadata": {},
   "outputs": [
    {
     "name": "stdout",
     "output_type": "stream",
     "text": [
      "Enter Your Desire Number Or Enter 0 To Stop1\n",
      "The Number is {1}\n",
      "Weird\n",
      "Enter Your Desire Number Or Enter 0 To Stop2\n",
      "The Number is {2}\n",
      "Not Weird\n",
      "Enter Your Desire Number Or Enter 0 To Stop3\n",
      "The Number is {3}\n",
      "Weird\n",
      "Enter Your Desire Number Or Enter 0 To Stop4\n",
      "The Number is {4}\n",
      "Not Weird\n",
      "Enter Your Desire Number Or Enter 0 To Stop0\n",
      "The Number is {0}\n",
      "ILY 300 ! You Finally Stopped It\n"
     ]
    }
   ],
   "source": [
    "import random\n",
    "while n != '0':\n",
    "    n = int(input('Enter Your Desire Number Or Enter 0 To Stop'))\n",
    "    print(f'The Number is',{n})\n",
    "    if n % 2 == 1:\n",
    "        print('Weird')\n",
    "    elif n % 2 == 0 and n>=2 and n <=5:\n",
    "        print('Not Weird')    \n",
    "    elif n % 2 == 0 and n>=6 and n <=20:\n",
    "        print('Weird')\n",
    "    elif n % 2 == 0 and n > 20:\n",
    "        print('Not Weird')\n",
    "    elif n == 0 :\n",
    "        print('ILY 300 ! You Finally Stopped It')\n",
    "        break\n",
    "    else:\n",
    "        print('Wrong Entry')\n"
   ]
  },
  {
   "cell_type": "code",
   "execution_count": null,
   "id": "c4e568c2",
   "metadata": {},
   "outputs": [],
   "source": []
  }
 ],
 "metadata": {
  "kernelspec": {
   "display_name": "Python 3",
   "language": "python",
   "name": "python3"
  },
  "language_info": {
   "codemirror_mode": {
    "name": "ipython",
    "version": 3
   },
   "file_extension": ".py",
   "mimetype": "text/x-python",
   "name": "python",
   "nbconvert_exporter": "python",
   "pygments_lexer": "ipython3",
   "version": "3.8.8"
  }
 },
 "nbformat": 4,
 "nbformat_minor": 5
}
