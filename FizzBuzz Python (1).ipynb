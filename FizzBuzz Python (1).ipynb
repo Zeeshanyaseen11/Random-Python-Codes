{
 "cells": [
  {
   "cell_type": "markdown",
   "id": "06ae3e1a",
   "metadata": {},
   "source": [
    "Problem description: Given an integer n, return a string array result where:\n",
    "\n",
    "result[i] == “FizzBuzz” if i is divisible by 3 and 5.\n",
    "result[i] == “Fizz” if i is divisible by 3.\n",
    "result[i] == “Buzz” if i is divisible by 5.\n",
    "result[i] == i in any other case."
   ]
  },
  {
   "cell_type": "code",
   "execution_count": 7,
   "id": "4d76cf20",
   "metadata": {},
   "outputs": [
    {
     "name": "stdout",
     "output_type": "stream",
     "text": [
      "Enter The Desired Number15\n",
      "The number entered is 15\n",
      "The Number is divisible by 3 and 5 so it is a FizzBuzz\n"
     ]
    }
   ],
   "source": [
    "# for indiviual number\n",
    "\n",
    "number = int(input('Enter The Desired Number'))\n",
    "print('The number entered is',number)\n",
    "\n",
    "def fizzbuzz(n):\n",
    "    if n % 3 == 0 and n % 5 == 0:\n",
    "        print('The Number is divisible by 3 and 5 so it is a FizzBuzz')\n",
    "    elif n % 3 == 0:\n",
    "        print('The Number is divisible by 3 so it is a Fizz')\n",
    "    elif n % 5 == 0:\n",
    "        print('The Number is divisible by 5 so it is a Buzz')\n",
    "    else:\n",
    "        print('The Numeber is not divisible')\n",
    "        \n",
    "fizzbuzz(number)"
   ]
  },
  {
   "cell_type": "code",
   "execution_count": 32,
   "id": "7067d21a",
   "metadata": {},
   "outputs": [
    {
     "name": "stdout",
     "output_type": "stream",
     "text": [
      "10 is divisible by 5\n",
      "30 is divisible by 3 and 5\n",
      "3 is divisible by 3\n",
      "['Buzz', 'FizzBuzz', 53, 'Fizz', 4, 1]\n"
     ]
    }
   ],
   "source": [
    "#for list / array\n",
    "\n",
    "\n",
    "\n",
    "arr = []\n",
    "\n",
    "number_list = [10,30,53,3,4,1]\n",
    "\n",
    "for i in number_list:\n",
    "    if i % 3 == 0 and i % 5 == 0:\n",
    "        print(i,'is divisible by 3 and 5')\n",
    "        arr.append('FizzBuzz')\n",
    "        continue\n",
    "    elif i % 3 == 0:\n",
    "        print(i,'is divisible by 3')\n",
    "        arr.append('Fizz')\n",
    "        continue\n",
    "    elif i % 5 == 0:\n",
    "        print(i,'is divisible by 5')\n",
    "        arr.append('Buzz')\n",
    "        continue\n",
    "    else:\n",
    "        arr.append(i)\n",
    "    \n",
    "print(arr)\n",
    "    "
   ]
  },
  {
   "cell_type": "code",
   "execution_count": null,
   "id": "4ced3ae0",
   "metadata": {},
   "outputs": [],
   "source": []
  }
 ],
 "metadata": {
  "kernelspec": {
   "display_name": "Python 3",
   "language": "python",
   "name": "python3"
  },
  "language_info": {
   "codemirror_mode": {
    "name": "ipython",
    "version": 3
   },
   "file_extension": ".py",
   "mimetype": "text/x-python",
   "name": "python",
   "nbconvert_exporter": "python",
   "pygments_lexer": "ipython3",
   "version": "3.8.8"
  }
 },
 "nbformat": 4,
 "nbformat_minor": 5
}
