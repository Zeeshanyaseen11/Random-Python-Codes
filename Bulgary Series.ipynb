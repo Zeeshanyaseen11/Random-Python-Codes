{
 "cells": [
  {
   "cell_type": "markdown",
   "id": "c77f72eb",
   "metadata": {},
   "source": [
    "Your spouse is not concerned with the loss of material possessions but rather with his/her favorite pet. Is it gone?!\n",
    "\n",
    "Given a dictionary of the stolen items and a string in lowercase representing the name of the pet (e.g. \"rambo\"), return:\n",
    "\n",
    "\"Rambo is gone...\" if the name is on the list.\n",
    "\"Rambo is here!\" if the name is not on the list.\n",
    "Note that the first letter of the name in the return statement is capitalized."
   ]
  },
  {
   "cell_type": "code",
   "execution_count": 42,
   "id": "0f3f173c",
   "metadata": {},
   "outputs": [
    {
     "name": "stdout",
     "output_type": "stream",
     "text": [
      "Enter The Item To Checkcar\n",
      "car\n",
      "Found. The missing list contains Car\n"
     ]
    }
   ],
   "source": [
    "keytocheck= input('Enter The Item To Check')\n",
    "keytocheck = keytocheck.lower()\n",
    "print(keytocheck)\n",
    "\n",
    "check_the_items(keytocheck)\n",
    "\n",
    "thisdict  = {\n",
    "\"tV\":\"samsung\",\n",
    "\"phone\":\"samsung\",\n",
    "\"car\":\"honda\",\n",
    "\"laptop\":\"hp\"\n",
    "}\n",
    "\n",
    "def check_the_items(key):\n",
    "    if key in thisdict.keys():\n",
    "        print(f'Found.The missing list contains', keytocheck.capitalize())\n",
    "    else:\n",
    "        print(\"Not Found\")    "
   ]
  },
  {
   "cell_type": "raw",
   "id": "da611f29",
   "metadata": {},
   "source": [
    "n = int(input(\"enter a n value:\"))\n",
    "d = {}\n",
    "\n",
    "for i in range(n):\n",
    "    keys = input() # here i have taken keys as strings\n",
    "    values = int(input()) # here i have taken values as integers\n",
    "    d[keys] = values\n",
    "print(d)"
   ]
  }
 ],
 "metadata": {
  "kernelspec": {
   "display_name": "Python 3",
   "language": "python",
   "name": "python3"
  },
  "language_info": {
   "codemirror_mode": {
    "name": "ipython",
    "version": 3
   },
   "file_extension": ".py",
   "mimetype": "text/x-python",
   "name": "python",
   "nbconvert_exporter": "python",
   "pygments_lexer": "ipython3",
   "version": "3.8.8"
  }
 },
 "nbformat": 4,
 "nbformat_minor": 5
}
