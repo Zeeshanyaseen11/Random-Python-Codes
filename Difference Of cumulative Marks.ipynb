{
 "cells": [
  {
   "cell_type": "code",
   "execution_count": null,
   "id": "e8ae676e",
   "metadata": {},
   "outputs": [],
   "source": [
    "#You are given a table containing assignment scores of students in a class. Write a query that #identifies the largest difference in total score  of all assignments.\n",
    "#Output just the difference in total score (sum of all 3 assignments) between a student with the #highest score and a student with the lowest score.\n",
    "\n",
    "\n",
    "total_score  = box_scores.assignment1 + box_scores.assignment2 + box_scores.assignment3 \n",
    "total_difference = total_score.max() - total_score.min()\n",
    "print('The total difference is',total_difference)\n"
   ]
  }
 ],
 "metadata": {
  "kernelspec": {
   "display_name": "Python 3",
   "language": "python",
   "name": "python3"
  },
  "language_info": {
   "codemirror_mode": {
    "name": "ipython",
    "version": 3
   },
   "file_extension": ".py",
   "mimetype": "text/x-python",
   "name": "python",
   "nbconvert_exporter": "python",
   "pygments_lexer": "ipython3",
   "version": "3.8.8"
  }
 },
 "nbformat": 4,
 "nbformat_minor": 5
}
