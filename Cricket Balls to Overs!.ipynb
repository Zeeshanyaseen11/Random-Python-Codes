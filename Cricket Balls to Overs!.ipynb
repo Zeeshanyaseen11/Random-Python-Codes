{
 "cells": [
  {
   "cell_type": "markdown",
   "id": "17f7435d",
   "metadata": {},
   "source": [
    "In cricket, an over consists of six deliveries a bowler bowls from one end. Create a function that takes the number of balls bowled by a bowler and calculates the number of overs and balls bowled by him/her. Return the value as a float, in the format overs.balls."
   ]
  },
  {
   "cell_type": "code",
   "execution_count": 68,
   "id": "694a8e24",
   "metadata": {},
   "outputs": [
    {
     "name": "stdout",
     "output_type": "stream",
     "text": [
      "Please Enter The Number60\n",
      "The bowler have bowled 60\n",
      "Total Overs Bowled 10.0\n"
     ]
    }
   ],
   "source": [
    "balls = int(input('Please Enter The Number'))\n",
    "print(f'The bowler have bowled', balls)\n",
    "\n",
    "def balls_to_over (number):\n",
    "    if (balls % 6 == 0):\n",
    "        return balls / 6\n",
    "    else:\n",
    "        return str(balls // 6) +'.' +  str(balls % 6)\n",
    "\n",
    "overs=balls_to_over(balls)\n",
    "print('Total Overs Bowled',overs)"
   ]
  },
  {
   "cell_type": "code",
   "execution_count": null,
   "id": "7485b8ca",
   "metadata": {},
   "outputs": [],
   "source": []
  }
 ],
 "metadata": {
  "kernelspec": {
   "display_name": "Python 3",
   "language": "python",
   "name": "python3"
  },
  "language_info": {
   "codemirror_mode": {
    "name": "ipython",
    "version": 3
   },
   "file_extension": ".py",
   "mimetype": "text/x-python",
   "name": "python",
   "nbconvert_exporter": "python",
   "pygments_lexer": "ipython3",
   "version": "3.8.8"
  }
 },
 "nbformat": 4,
 "nbformat_minor": 5
}
