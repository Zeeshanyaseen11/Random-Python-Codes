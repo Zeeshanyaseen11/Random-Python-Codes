{
 "cells": [
  {
   "cell_type": "markdown",
   "id": "01aef601",
   "metadata": {},
   "source": [
    "Python got drunk and the built-in functions str() and int() are acting odd:\n",
    "\n",
    "str(4) ➞ 4\n",
    "str(\"4\") ➞ 4\n",
    "int(\"4\") ➞ \"4\"\n",
    "int(4) ➞ \"4\"\n",
    "\n",
    "You need to create two functions to substitute str() and int(). A function called int_to_str() that converts integers into strings and a function called str_to_int() that converts strings into integers."
   ]
  },
  {
   "cell_type": "markdown",
   "id": "f2fecf08",
   "metadata": {},
   "source": [
    "# Example\n",
    "\n",
    "int_to_str(4) ➞ \"4\"\n",
    "\n",
    "str_to_int(\"4\") ➞ 4\n",
    "\n",
    "int_to_str(29348) ➞ \"29348\""
   ]
  },
  {
   "cell_type": "code",
   "execution_count": 11,
   "id": "0e939f70",
   "metadata": {},
   "outputs": [
    {
     "name": "stdout",
     "output_type": "stream",
     "text": [
      "Enter The Int10\n",
      "<class 'int'>\n",
      "The entered number is 10\n",
      "10\n",
      "<class 'str'>\n"
     ]
    },
    {
     "data": {
      "text/plain": [
       "'10'"
      ]
     },
     "execution_count": 11,
     "metadata": {},
     "output_type": "execute_result"
    }
   ],
   "source": [
    "int_in = int(input ('Enter The Int'))\n",
    "print(type(int_in))\n",
    "print(f'The entered number is',int_in)\n",
    "\n",
    "def int_to_str(number):\n",
    "    result = str(number)\n",
    "    print(result)\n",
    "    print(type(result))\n",
    "    return result\n",
    "\n",
    "int_to_str(int_in)"
   ]
  },
  {
   "cell_type": "code",
   "execution_count": 19,
   "id": "c23af9d0",
   "metadata": {},
   "outputs": [
    {
     "name": "stdout",
     "output_type": "stream",
     "text": [
      "Enter The String4\n",
      "<class 'str'>\n",
      "The entered string is 4\n",
      "4\n",
      "<class 'int'>\n"
     ]
    },
    {
     "data": {
      "text/plain": [
       "4"
      ]
     },
     "execution_count": 19,
     "metadata": {},
     "output_type": "execute_result"
    }
   ],
   "source": [
    "int_str = str(input ('Enter The String'))\n",
    "print(type(int_str))\n",
    "print(f'The entered string is',int_str)\n",
    "\n",
    "def str_to_int(string):\n",
    "    result = int(string)\n",
    "    print(result)\n",
    "    print(type(result))\n",
    "    return result\n",
    "\n",
    "str_to_int(int_str)"
   ]
  },
  {
   "cell_type": "code",
   "execution_count": null,
   "id": "16aaf39b",
   "metadata": {},
   "outputs": [],
   "source": []
  }
 ],
 "metadata": {
  "kernelspec": {
   "display_name": "Python 3",
   "language": "python",
   "name": "python3"
  },
  "language_info": {
   "codemirror_mode": {
    "name": "ipython",
    "version": 3
   },
   "file_extension": ".py",
   "mimetype": "text/x-python",
   "name": "python",
   "nbconvert_exporter": "python",
   "pygments_lexer": "ipython3",
   "version": "3.8.8"
  }
 },
 "nbformat": 4,
 "nbformat_minor": 5
}
