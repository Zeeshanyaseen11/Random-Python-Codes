{
 "cells": [
  {
   "cell_type": "markdown",
   "id": "d5030e60",
   "metadata": {},
   "source": [
    "# Consider that vowels in the alphabet are a, e, i, o, u and y.\n",
    "\n",
    "Function score_words takes a list of lowercase words as an argument and returns a score as follows:\n",
    "\n",
    "The score of a single word is  if the word contains an even number of vowels. Otherwise, the score of this word is . The score for the whole list of words is the sum of scores of all words in the list.\n",
    "\n",
    "Debug the given function score_words such that it returns a correct score.\n",
    "\n",
    "Your function will be tested on several cases by the locked template code."
   ]
  },
  {
   "cell_type": "code",
   "execution_count": 60,
   "id": "f5126661",
   "metadata": {},
   "outputs": [],
   "source": [
    "#hacker --> 2  \n",
    "#book --> 2 \n",
    "# output 2 + 2 --> 4"
   ]
  },
  {
   "cell_type": "code",
   "execution_count": 62,
   "id": "cc852fa3",
   "metadata": {},
   "outputs": [
    {
     "data": {
      "text/plain": [
       "'Hacker Book'"
      ]
     },
     "execution_count": 62,
     "metadata": {},
     "output_type": "execute_result"
    }
   ],
   "source": [
    "word = 'Hacker Book'\n",
    "word"
   ]
  },
  {
   "cell_type": "code",
   "execution_count": 64,
   "id": "53937d7e",
   "metadata": {},
   "outputs": [
    {
     "data": {
      "text/plain": [
       "['Hacker', 'Book']"
      ]
     },
     "execution_count": 64,
     "metadata": {},
     "output_type": "execute_result"
    }
   ],
   "source": [
    "def Convert(string):\n",
    "    li = list(string.split(' '))\n",
    "    return li\n",
    "string_split=Convert(word)\n",
    "string_split"
   ]
  },
  {
   "cell_type": "code",
   "execution_count": 65,
   "id": "48e04f83",
   "metadata": {},
   "outputs": [
    {
     "name": "stdout",
     "output_type": "stream",
     "text": [
      "List of character is :  ['H', 'a', 'c', 'k', 'e', 'r']\n"
     ]
    }
   ],
   "source": [
    "# Python code to convert string to list character-wise\n",
    "# Using re.findall method\n",
    "import re\n",
    "# Function which uses re.findall method to convert string to list character wise \n",
    "def Convert(string):\n",
    "    return re.findall('[a-zA-Z]', string)\n",
    "stringOne = Convert(string_split[0])\n",
    "print(\"List of character is : \",Convert(string_split[0]))"
   ]
  },
  {
   "cell_type": "code",
   "execution_count": 66,
   "id": "fa3648a0",
   "metadata": {},
   "outputs": [
    {
     "name": "stdout",
     "output_type": "stream",
     "text": [
      "List of character is :  ['B', 'o', 'o', 'k']\n"
     ]
    }
   ],
   "source": [
    "# Python code to convert string to list character-wise\n",
    "# Using re.findall method\n",
    "import re\n",
    "# Function which uses re.findall method to convert string to list character wise \n",
    "def Convert(string):\n",
    "    return re.findall('[a-zA-Z]', string)\n",
    "stringTwo = Convert(string_split[1])\n",
    "print(\"List of character is : \",Convert(string_split[1]))"
   ]
  },
  {
   "cell_type": "code",
   "execution_count": 134,
   "id": "9932f581",
   "metadata": {},
   "outputs": [
    {
     "name": "stdout",
     "output_type": "stream",
     "text": [
      "1\n"
     ]
    }
   ],
   "source": [
    "#Count vowels in single word\n",
    "\n",
    "count_wordOne = 0\n",
    "\n",
    "\n",
    "if 'a' in stringOne :\n",
    "    count_wordOne = count_wordOne + 1\n",
    "elif 'e' in stringOne :\n",
    "    countofwordOne = countofwordOne + 1\n",
    "elif 'i' in stringOne:\n",
    "    countofwordOne = countofwordOne + 1\n",
    "elif 'o' in stringOne:\n",
    "    countofwordOne = countofwordOneount + 1\n",
    "elif 'u' in stringOne:\n",
    "    countofwordOne = countofwordOne + 1\n",
    "print(count_wordOne)"
   ]
  },
  {
   "cell_type": "code",
   "execution_count": 109,
   "id": "f1d501d7",
   "metadata": {},
   "outputs": [
    {
     "data": {
      "text/plain": [
       "6"
      ]
     },
     "execution_count": 109,
     "metadata": {},
     "output_type": "execute_result"
    }
   ],
   "source": [
    "len(stringOne)"
   ]
  },
  {
   "cell_type": "code",
   "execution_count": 158,
   "id": "f4ba86d2",
   "metadata": {},
   "outputs": [
    {
     "name": "stdout",
     "output_type": "stream",
     "text": [
      "2\n"
     ]
    }
   ],
   "source": [
    "wordcount = 0\n",
    "if 'a' in stringOne:\n",
    "    wordcount = wordcount + 1 \n",
    "if 'e' in stringOne:\n",
    "    wordcount = wordcount + 1 \n",
    "if 'i' in stringOne:\n",
    "    wordcount = wordcount + 1 \n",
    "if 'o' in stringOne:\n",
    "    wordcount = wordcount + 1 \n",
    "if 'u' in stringOne:\n",
    "    wordcount = wordcount + 1 \n",
    "print(wordcount)"
   ]
  },
  {
   "cell_type": "code",
   "execution_count": 159,
   "id": "7f5f6a63",
   "metadata": {},
   "outputs": [
    {
     "name": "stdout",
     "output_type": "stream",
     "text": [
      "1\n"
     ]
    }
   ],
   "source": [
    "wordcounttwo = 0\n",
    "if 'a' in stringTwo:\n",
    "    wordcounttwo = wordcounttwo + 1 \n",
    "if 'e' in stringTwo:\n",
    "    wordcounttwo = wordcounttwo + 1 \n",
    "if 'i' in stringTwo:\n",
    "    wordcounttwo = wordcounttwo + 1 \n",
    "if 'o' in stringTwo:\n",
    "    wordcounttwo = wordcounttwo + 1 \n",
    "if 'u' in stringTwo:\n",
    "    wordcounttwo = wordcounttwo + 1 \n",
    "print(wordcounttwo)"
   ]
  },
  {
   "cell_type": "code",
   "execution_count": 160,
   "id": "f58cc9f3",
   "metadata": {},
   "outputs": [
    {
     "name": "stdout",
     "output_type": "stream",
     "text": [
      "Therefore the total Number of vowels in whole phrase were [3]\n"
     ]
    }
   ],
   "source": [
    "result = wordcounttwo+wordcount\n",
    "print(f'Therefore the total Number of vowels in whole phrase were',[result])"
   ]
  },
  {
   "cell_type": "code",
   "execution_count": null,
   "id": "71d57031",
   "metadata": {},
   "outputs": [],
   "source": []
  }
 ],
 "metadata": {
  "kernelspec": {
   "display_name": "Python 3",
   "language": "python",
   "name": "python3"
  },
  "language_info": {
   "codemirror_mode": {
    "name": "ipython",
    "version": 3
   },
   "file_extension": ".py",
   "mimetype": "text/x-python",
   "name": "python",
   "nbconvert_exporter": "python",
   "pygments_lexer": "ipython3",
   "version": "3.8.8"
  }
 },
 "nbformat": 4,
 "nbformat_minor": 5
}
