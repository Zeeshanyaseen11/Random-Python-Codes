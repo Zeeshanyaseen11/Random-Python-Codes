{
 "cells": [
  {
   "cell_type": "markdown",
   "id": "de69e669",
   "metadata": {},
   "source": [
    "# Print the list of integers from through as a string, without spaces.¶"
   ]
  },
  {
   "cell_type": "code",
   "execution_count": 1,
   "id": "cc06a2bc",
   "metadata": {},
   "outputs": [
    {
     "name": "stdout",
     "output_type": "stream",
     "text": [
      "1\n",
      "2\n",
      "3\n",
      "4\n",
      "5\n",
      "6\n",
      "7\n",
      "8\n",
      "9\n",
      "10\n"
     ]
    }
   ],
   "source": [
    "z = 10\n",
    "number = 1\n",
    "for i in range(z):\n",
    "    print(number)\n",
    "    number = number + 1 "
   ]
  },
  {
   "cell_type": "markdown",
   "id": "abdc1dd4",
   "metadata": {},
   "source": [
    "# The list of non-negative integers that are less than n = 3 is [0,1,2] . Print the square of each number on a separate line.\n",
    "\n"
   ]
  },
  {
   "cell_type": "code",
   "execution_count": 3,
   "id": "23b3f2bd",
   "metadata": {},
   "outputs": [
    {
     "name": "stdout",
     "output_type": "stream",
     "text": [
      "0\n",
      "1\n",
      "4\n"
     ]
    }
   ],
   "source": [
    "z = 3 \n",
    "number = 0\n",
    "for i in range(z):\n",
    "    print (number ** 2)\n",
    "    number = number + 1 "
   ]
  },
  {
   "cell_type": "markdown",
   "id": "d5fbfd58",
   "metadata": {},
   "source": [
    "# Given a year, determine whether it is a leap year. If it is a leap year, return the Boolean True, otherwise return False.\n",
    "\n",
    "Note that the code stub provided reads from STDIN and passes arguments to the is_leap function. It is only necessary to complete the is_leap function."
   ]
  },
  {
   "cell_type": "code",
   "execution_count": 10,
   "id": "bdd4fa38",
   "metadata": {},
   "outputs": [
    {
     "name": "stdout",
     "output_type": "stream",
     "text": [
      "Enter The Year Which You Wanna Check1995\n",
      "False\n"
     ]
    }
   ],
   "source": [
    "year = int(input('Enter The Year Which You Wanna Check'))\n",
    "\n",
    "def leap_year(year):\n",
    "    if year % 4 == 0:\n",
    "        print ('True')\n",
    "    else:\n",
    "        print ('False')\n",
    "    \n",
    "leap_year(year)"
   ]
  },
  {
   "cell_type": "code",
   "execution_count": null,
   "id": "6934cd2e",
   "metadata": {},
   "outputs": [],
   "source": []
  }
 ],
 "metadata": {
  "kernelspec": {
   "display_name": "Python 3",
   "language": "python",
   "name": "python3"
  },
  "language_info": {
   "codemirror_mode": {
    "name": "ipython",
    "version": 3
   },
   "file_extension": ".py",
   "mimetype": "text/x-python",
   "name": "python",
   "nbconvert_exporter": "python",
   "pygments_lexer": "ipython3",
   "version": "3.8.8"
  }
 },
 "nbformat": 4,
 "nbformat_minor": 5
}
